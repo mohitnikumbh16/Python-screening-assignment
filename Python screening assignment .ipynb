{
 "cells": [
  {
   "cell_type": "markdown",
   "id": "e6116100",
   "metadata": {},
   "source": [
    "1. Create a function in python to read the text file and replace specific content\n",
    "of the file."
   ]
  },
  {
   "cell_type": "raw",
   "id": "f7fea319",
   "metadata": {},
   "source": [
    "File name                  example.txt\n",
    "Origin file content        This is a placement assignment\n",
    "Replace string             Placement should be replaced by screening.\n",
    "\n",
    "Replaced file content      This is a screening assignment"
   ]
  },
  {
   "cell_type": "code",
   "execution_count": 1,
   "id": "11e8e374",
   "metadata": {},
   "outputs": [],
   "source": [
    "e=open('example.txt','+w')   "
   ]
  },
  {
   "cell_type": "code",
   "execution_count": 2,
   "id": "1699c42f",
   "metadata": {},
   "outputs": [
    {
     "data": {
      "text/plain": [
       "30"
      ]
     },
     "execution_count": 2,
     "metadata": {},
     "output_type": "execute_result"
    }
   ],
   "source": [
    "e.write('This is a placement assignment')"
   ]
  },
  {
   "cell_type": "code",
   "execution_count": 3,
   "id": "44971c8a",
   "metadata": {},
   "outputs": [],
   "source": [
    "e.close()"
   ]
  },
  {
   "cell_type": "code",
   "execution_count": 4,
   "id": "2ed95979",
   "metadata": {},
   "outputs": [],
   "source": [
    "def replace_txt():\n",
    "    # Python program to replace text in a file\n",
    "    x = input(\"enter text to be replaced:\")\n",
    "    y = input(\"enter text that will replace:\")\n",
    "    # file.txt should be replaced with the actual text file name\n",
    "    f = open(\"example.txt\", \"r+\")\n",
    "    \n",
    "    # each sentence becomes an element in the list l\n",
    "    l = f.readlines()\n",
    "    \n",
    "    # acts as a counter to know the index of the element to be replace\n",
    "    c = 0\n",
    "    for i in l:\n",
    "        if x in i:\n",
    "            Replacement = i.replace(x, y)\n",
    "            \n",
    "            # changes are made in the list\n",
    "            l = Replacement\n",
    "        c += 1\n",
    "    # The pre existing text in the file is erased\n",
    "    f.truncate(0)\n",
    "\n",
    "    # the modified list is written into\n",
    "    # the file thereby replacing the old text\n",
    "    f.writelines(l)\n",
    "    f.close()\n",
    "    print(\"replace successfuly\")\n"
   ]
  },
  {
   "cell_type": "code",
   "execution_count": 5,
   "id": "7f568fca",
   "metadata": {},
   "outputs": [
    {
     "name": "stdout",
     "output_type": "stream",
     "text": [
      "enter text to be replaced:placement\n",
      "enter text that will replace:screening\n",
      "replace successfuly\n"
     ]
    }
   ],
   "source": [
    "replace_txt()"
   ]
  },
  {
   "cell_type": "code",
   "execution_count": 6,
   "id": "02a90bd3",
   "metadata": {},
   "outputs": [],
   "source": [
    "e=open('example.txt')"
   ]
  },
  {
   "cell_type": "markdown",
   "id": "715efeeb",
   "metadata": {},
   "source": [
    "2. Demonstrate use of abstract class, multiple inheritance and decorator in\n",
    "python using examples."
   ]
  },
  {
   "cell_type": "markdown",
   "id": "ccdee6b4",
   "metadata": {},
   "source": [
    "Abstract class\n",
    "\n",
    "-An abstract class can be considered as a blueprint for other classes. \n",
    "\n",
    "-It allows you to create a set of methods that must be created within any child classes built        from the abstract class.\n",
    "\n",
    "-A class which contains one or more abstract methods is called an abstract class.\n",
    "\n",
    "-An abstract method is a method that has a declaration but does not have an implementation. While    we are designing large functional units we use an abstract class.\n",
    "\n",
    "-When we want to provide a common interface for different implementations of a component, we use    an abstract class. "
   ]
  },
  {
   "cell_type": "code",
   "execution_count": 8,
   "id": "521ab2c1",
   "metadata": {},
   "outputs": [
    {
     "name": "stdout",
     "output_type": "stream",
     "text": [
      "I can walk and run\n",
      "I can crawl\n",
      "I can bark\n",
      "I can roar\n"
     ]
    }
   ],
   "source": [
    "#eg of abstract class\n",
    "# Python program showing abstract base class work\n",
    "\n",
    "from abc import ABC, abstractmethod\n",
    "class Animal(ABC):\n",
    "\n",
    "    def move(self):\n",
    "        pass\n",
    "\n",
    "class Human(Animal):\n",
    "    def move(self):\n",
    "        print(\"I can walk and run\")\n",
    "\n",
    "class Snake(Animal):\n",
    "    def move(self):\n",
    "        print(\"I can crawl\")\n",
    "\n",
    "class Dog(Animal):\n",
    "    def move(self):\n",
    "        print(\"I can bark\")\n",
    "\n",
    "class Lion(Animal):\n",
    "    def move(self):\n",
    "        print(\"I can roar\")\n",
    "\n",
    "# Driver code\n",
    "R = Human()\n",
    "R.move()\n",
    "\n",
    "K = Snake()\n",
    "K.move()\n",
    "\n",
    "R = Dog()\n",
    "R.move()\n",
    "\n",
    "K = Lion()\n",
    "K.move()\n"
   ]
  },
  {
   "cell_type": "markdown",
   "id": "e00d6b14",
   "metadata": {},
   "source": [
    "Multiple Inheritance \n",
    "\n",
    "-When a class is derived from more than one base class it is called multiple Inheritance. The        derived class inherits all the features of the base case.\n",
    "\n",
    "-Inheritance is the mechanism to achieve the re-usability of code as one class(child class) can      derive the properties of another class(parent class).\n",
    "\n",
    "-It also provides transitivity ie. if class C inherits from P then all the sub-classes of C would    also inherit from P."
   ]
  },
  {
   "cell_type": "code",
   "execution_count": 9,
   "id": "18e75f40",
   "metadata": {},
   "outputs": [
    {
     "name": "stdout",
     "output_type": "stream",
     "text": [
      "In Class3\n"
     ]
    }
   ],
   "source": [
    "# Python Program to depict multiple inheritance\n",
    "\n",
    "class Class1:\n",
    "    def m(self):\n",
    "        print(\"In Class1\")\n",
    "\n",
    "class Class2(Class1):\n",
    "    pass\n",
    "\n",
    "class Class3(Class1):\n",
    "    def m(self):\n",
    "        print(\"In Class3\")\n",
    "\n",
    "class Class4(Class2, Class3):\n",
    "    pass\n",
    "\n",
    "obj = Class4()\n",
    "obj.m()\n"
   ]
  },
  {
   "cell_type": "markdown",
   "id": "04cec494",
   "metadata": {},
   "source": [
    "Decorator"
   ]
  },
  {
   "cell_type": "markdown",
   "id": "c47b42f5",
   "metadata": {},
   "source": [
    "-Decorators are a very powerful and useful tool in Python since it allows programmers to modify      the behaviour of function or class. \n",
    "\n",
    "-Decorators allow us to wrap another function in order to extend the behaviour of the wrapped        function, without permanently modifying it. "
   ]
  },
  {
   "cell_type": "code",
   "execution_count": 10,
   "id": "fcb070fa",
   "metadata": {},
   "outputs": [
    {
     "name": "stdout",
     "output_type": "stream",
     "text": [
      "HELLO\n",
      "HELLO\n"
     ]
    }
   ],
   "source": [
    "# Python program to illustrate functions can be treated as objects\n",
    "def shout(text):\n",
    "    return text.upper()\n",
    "\n",
    "print(shout('Hello'))\n",
    "\n",
    "yell = shout\n",
    "\n",
    "print(yell('Hello'))\n"
   ]
  }
 ],
 "metadata": {
  "kernelspec": {
   "display_name": "Python 3 (ipykernel)",
   "language": "python",
   "name": "python3"
  },
  "language_info": {
   "codemirror_mode": {
    "name": "ipython",
    "version": 3
   },
   "file_extension": ".py",
   "mimetype": "text/x-python",
   "name": "python",
   "nbconvert_exporter": "python",
   "pygments_lexer": "ipython3",
   "version": "3.9.7"
  }
 },
 "nbformat": 4,
 "nbformat_minor": 5
}
